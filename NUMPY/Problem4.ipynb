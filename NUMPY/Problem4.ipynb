{
 "cells": [
  {
   "cell_type": "markdown",
   "metadata": {},
   "source": [
    "Problem 4:Statistical Functions\n",
    "1.Generate an array of 100 random numbers from a normal distribution with mean 0 and standard deviation 1.\n",
    "2.Compute the mean, median, and standard deviation of the array.\n",
    "3.Find the 25th, 50th, and 75th percentiles of the array."
   ]
  },
  {
   "cell_type": "code",
   "execution_count": 1,
   "metadata": {},
   "outputs": [],
   "source": [
    "import numpy as np\n",
    "import random"
   ]
  },
  {
   "cell_type": "code",
   "execution_count": 2,
   "metadata": {},
   "outputs": [
    {
     "name": "stdout",
     "output_type": "stream",
     "text": [
      "[ 0.52665004  0.86944869  0.6745187   0.69856413  2.17572032  0.7705443\n",
      "  2.17399308  0.21069118 -0.94729497 -0.75225307  0.51164385  0.94331436\n",
      "  0.97868995  0.04801399  0.42446218 -0.29091466  0.36397232  0.19120722\n",
      " -1.27074742  1.29337601 -0.34452601  0.09402472 -1.23750415  1.2446656\n",
      "  0.72107643  0.03659952  1.93387613 -1.01042903  1.80834328  1.30556585\n",
      "  0.56590833  0.65919037 -0.13506263 -1.21890933 -0.67297293  0.72196667\n",
      " -0.93294374  0.71562538  1.27068015  0.04876802 -1.8908338   0.65376511\n",
      " -0.87869822 -1.07474464 -0.36179667  0.55120822 -0.39064352 -0.47848667\n",
      " -0.65121171 -0.29962517 -0.06098115  0.83160712  2.96312835 -1.67529582\n",
      " -1.47471236 -0.23101283 -1.80886207  0.444436    0.71087369 -1.38356913\n",
      "  1.26269958  0.45949315 -1.91125585  0.38139719 -0.82774831 -0.91492755\n",
      "  0.25003822  0.93383658  0.49651603  0.33255252 -0.71018871  1.15893533\n",
      " -0.05730124 -0.44814921  1.44879352 -0.04634459 -1.72909643  0.70132842\n",
      "  2.14358969 -0.85368746 -2.00869514  0.42651365  0.6742959   0.90043322\n",
      " -0.83175229 -1.58940142  1.47056735  0.81413759 -0.09008759  0.62994309\n",
      "  0.45268087  0.57988692 -0.75961199 -0.41727071 -0.80392006 -1.70121001\n",
      " -0.66169931 -1.31100078  1.07874671  0.475089  ]\n"
     ]
    }
   ],
   "source": [
    "normal_array=np.random.normal(0,1,100)\n",
    "print(normal_array)"
   ]
  },
  {
   "cell_type": "code",
   "execution_count": 3,
   "metadata": {},
   "outputs": [
    {
     "name": "stdout",
     "output_type": "stream",
     "text": [
      "0.08060213454932848\n",
      "0.23036469630531675\n",
      "1.0380897904113844\n"
     ]
    }
   ],
   "source": [
    "# Computing Mean\n",
    "mean_normal_array=np.mean(normal_array)\n",
    "print(mean_normal_array)\n",
    "\n",
    "# Computing Median\n",
    "median_normal_array=np.median(normal_array)\n",
    "print(median_normal_array)\n",
    "\n",
    "# Computing Standard Deviation\n",
    "std_normal_array=np.std(normal_array)\n",
    "print(std_normal_array)\n"
   ]
  },
  {
   "cell_type": "code",
   "execution_count": 4,
   "metadata": {},
   "outputs": [
    {
     "name": "stdout",
     "output_type": "stream",
     "text": [
      "-0.7540927997184029\n",
      "0.23036469630531675\n",
      "0.7169881418226564\n"
     ]
    }
   ],
   "source": [
    "# Calculating 25th 50th 75th percentile\n",
    "print(np.percentile(normal_array,25))\n",
    "print(np.percentile(normal_array,50))\n",
    "print(np.percentile(normal_array,75))"
   ]
  },
  {
   "cell_type": "code",
   "execution_count": null,
   "metadata": {},
   "outputs": [],
   "source": []
  }
 ],
 "metadata": {
  "kernelspec": {
   "display_name": "base",
   "language": "python",
   "name": "python3"
  },
  "language_info": {
   "codemirror_mode": {
    "name": "ipython",
    "version": 3
   },
   "file_extension": ".py",
   "mimetype": "text/x-python",
   "name": "python",
   "nbconvert_exporter": "python",
   "pygments_lexer": "ipython3",
   "version": "3.12.4"
  }
 },
 "nbformat": 4,
 "nbformat_minor": 2
}
