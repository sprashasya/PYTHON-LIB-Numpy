{
 "cells": [
  {
   "cell_type": "markdown",
   "metadata": {},
   "source": [
    "Problem 5: Logical Operations\n",
    "1.Create an array of 20 random integers between 1 and 100.\n",
    "2.Identify the elements that are greater than 50.\n",
    "3.Replace all elements greater than 50 with 0.\n",
    "4.Count the number of elements that are less than or equal to 50.\n"
   ]
  },
  {
   "cell_type": "code",
   "execution_count": 2,
   "metadata": {},
   "outputs": [],
   "source": [
    "import numpy as np\n",
    "import random"
   ]
  },
  {
   "cell_type": "code",
   "execution_count": 8,
   "metadata": {},
   "outputs": [
    {
     "data": {
      "text/plain": [
       "array([97, 46, 44, 44, 29, 98, 77, 17, 54,  3, 88, 35, 90, 27, 70, 68, 18,\n",
       "        6,  9, 84])"
      ]
     },
     "execution_count": 8,
     "metadata": {},
     "output_type": "execute_result"
    }
   ],
   "source": [
    "random_array=np.random.randint(1,101,20)\n",
    "random_array"
   ]
  },
  {
   "cell_type": "code",
   "execution_count": 9,
   "metadata": {},
   "outputs": [
    {
     "name": "stdout",
     "output_type": "stream",
     "text": [
      "97\n",
      "98\n",
      "77\n",
      "54\n",
      "88\n",
      "90\n",
      "70\n",
      "68\n",
      "84\n"
     ]
    }
   ],
   "source": [
    "for i in random_array:\n",
    "    if i >50:\n",
    "        print(i)"
   ]
  },
  {
   "cell_type": "code",
   "execution_count": 14,
   "metadata": {},
   "outputs": [
    {
     "name": "stdout",
     "output_type": "stream",
     "text": [
      "[97 46 44 44 29 98 77 17 54  3 88 35 90 27 70 68 18  6  9 84]\n",
      "[ 0 46 44 44 29  0  0 17  0  3  0 35  0 27  0  0 18  6  9  0]\n"
     ]
    }
   ],
   "source": [
    "a=random_array.copy()\n",
    "print(a)\n",
    "\n",
    "a[a>50]=0\n",
    "print(a)"
   ]
  },
  {
   "cell_type": "code",
   "execution_count": null,
   "metadata": {},
   "outputs": [],
   "source": []
  },
  {
   "cell_type": "code",
   "execution_count": 7,
   "metadata": {},
   "outputs": [
    {
     "name": "stdout",
     "output_type": "stream",
     "text": [
      "36\n",
      "39\n",
      "3\n",
      "42\n",
      "14\n",
      "18\n",
      "38\n",
      "19\n",
      "35\n",
      "15\n",
      "35\n",
      "34\n"
     ]
    }
   ],
   "source": [
    "for j in random_array:\n",
    "    if j <=50:\n",
    "        print(j)"
   ]
  },
  {
   "cell_type": "code",
   "execution_count": null,
   "metadata": {},
   "outputs": [],
   "source": []
  }
 ],
 "metadata": {
  "kernelspec": {
   "display_name": "base",
   "language": "python",
   "name": "python3"
  },
  "language_info": {
   "codemirror_mode": {
    "name": "ipython",
    "version": 3
   },
   "file_extension": ".py",
   "mimetype": "text/x-python",
   "name": "python",
   "nbconvert_exporter": "python",
   "pygments_lexer": "ipython3",
   "version": "3.12.4"
  }
 },
 "nbformat": 4,
 "nbformat_minor": 2
}
