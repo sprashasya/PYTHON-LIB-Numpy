{
 "cells": [
  {
   "cell_type": "markdown",
   "metadata": {},
   "source": [
    "Problem:Make a matrix of 3X3, extract a submatrix from it. Specifically, consider the following tasks:\n",
    "1.Extract a submatrix from a given 3x3 matrix by selecting rows 1 and 2, and columns 1 and 2.\n",
    "2.Create a function that takes a matrix and the top-left and bottom-right coordinates of the submatrix and returns the submatrix."
   ]
  },
  {
   "cell_type": "code",
   "execution_count": 1,
   "metadata": {},
   "outputs": [],
   "source": [
    "import numpy as np"
   ]
  },
  {
   "cell_type": "code",
   "execution_count": 4,
   "metadata": {},
   "outputs": [
    {
     "name": "stdout",
     "output_type": "stream",
     "text": [
      "[[1 2 3]\n",
      " [4 5 6]\n",
      " [7 8 9]]\n"
     ]
    }
   ],
   "source": [
    "original_matrix=np.arange(1,10).reshape(3,3)\n",
    "print(original_matrix)"
   ]
  },
  {
   "cell_type": "code",
   "execution_count": 9,
   "metadata": {},
   "outputs": [
    {
     "name": "stdout",
     "output_type": "stream",
     "text": [
      "[[5 6]\n",
      " [8 9]]\n"
     ]
    }
   ],
   "source": [
    "sub_matrix1=original_matrix[1:3,1:3]\n",
    "print(sub_matrix1)\n"
   ]
  },
  {
   "cell_type": "code",
   "execution_count": 14,
   "metadata": {},
   "outputs": [
    {
     "name": "stdout",
     "output_type": "stream",
     "text": [
      "[[5 6]\n",
      " [8 9]]\n"
     ]
    }
   ],
   "source": [
    "def sub_matrix(matrix,top_left,bottom_right):\n",
    "    row_start,column_start=top_left\n",
    "    row_end,col_end=bottom_right\n",
    "    return matrix[row_start:row_end,column_start:col_end]\n",
    "\n",
    "\n",
    "result=sub_matrix(original_matrix,top_left=(1,1),bottom_right=(3,3))\n",
    "print(result)"
   ]
  },
  {
   "cell_type": "code",
   "execution_count": null,
   "metadata": {},
   "outputs": [],
   "source": []
  }
 ],
 "metadata": {
  "kernelspec": {
   "display_name": "base",
   "language": "python",
   "name": "python3"
  },
  "language_info": {
   "codemirror_mode": {
    "name": "ipython",
    "version": 3
   },
   "file_extension": ".py",
   "mimetype": "text/x-python",
   "name": "python",
   "nbconvert_exporter": "python",
   "pygments_lexer": "ipython3",
   "version": "3.12.4"
  }
 },
 "nbformat": 4,
 "nbformat_minor": 2
}
