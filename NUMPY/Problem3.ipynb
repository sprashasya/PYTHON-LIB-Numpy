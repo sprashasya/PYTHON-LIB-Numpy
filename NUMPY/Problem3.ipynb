{
 "cells": [
  {
   "cell_type": "markdown",
   "metadata": {},
   "source": [
    "Problem 3: Mathematical Operations\n",
    "1.Create two 3x3 matrices with random integer values between 1 and 10.\n",
    "2.Perform element-wise addition, subtraction, and multiplication of the two matrices.\n",
    "3.Compute the dot product of the two matrices.\n",
    "4.Find the determinant of the first matrix."
   ]
  },
  {
   "cell_type": "code",
   "execution_count": 7,
   "metadata": {},
   "outputs": [],
   "source": [
    "import numpy as np\n",
    "import random\n"
   ]
  },
  {
   "cell_type": "code",
   "execution_count": 8,
   "metadata": {},
   "outputs": [
    {
     "name": "stdout",
     "output_type": "stream",
     "text": [
      "[[10  6  6]\n",
      " [ 6  4  4]\n",
      " [ 7  7  1]]\n",
      "[[ 6  5  1]\n",
      " [10 10  3]\n",
      " [ 6 10  5]]\n"
     ]
    }
   ],
   "source": [
    "m1=np.random.randint(1,11,size=(3,3))\n",
    "print(m1)\n",
    "\n",
    "m2=np.random.randint(1,11,size=(3,3))\n",
    "print(m2)"
   ]
  },
  {
   "cell_type": "code",
   "execution_count": 9,
   "metadata": {},
   "outputs": [
    {
     "name": "stdout",
     "output_type": "stream",
     "text": [
      "Addition of two matrices \n",
      " [[16 11  7]\n",
      " [16 14  7]\n",
      " [13 17  6]]\n",
      "Subtraction of two matrices \n",
      " [[ 4  1  5]\n",
      " [-4 -6  1]\n",
      " [ 1 -3 -4]]\n",
      "Multiplication of two matrices \n",
      " [[60 30  6]\n",
      " [60 40 12]\n",
      " [42 70  5]]\n"
     ]
    }
   ],
   "source": [
    "# element wise addition\n",
    "print(\"Addition of two matrices \\n\",m1+m2)\n",
    "# element wise Subtraction\n",
    "print(\"Subtraction of two matrices \\n\",m1-m2)\n",
    "# element wise Multiplication\n",
    "print(\"Multiplication of two matrices \\n\",m1*m2)"
   ]
  },
  {
   "cell_type": "code",
   "execution_count": 10,
   "metadata": {},
   "outputs": [
    {
     "name": "stdout",
     "output_type": "stream",
     "text": [
      "[[156 170  58]\n",
      " [100 110  38]\n",
      " [118 115  33]]\n"
     ]
    }
   ],
   "source": [
    "# Dot Product of matrices\n",
    "print(np.dot(m1,m2))"
   ]
  },
  {
   "cell_type": "code",
   "execution_count": 11,
   "metadata": {},
   "outputs": [
    {
     "name": "stdout",
     "output_type": "stream",
     "text": [
      "-23.999999999999982\n",
      "2.2204460492503077e-14\n"
     ]
    }
   ],
   "source": [
    "# finding the determinant\n",
    "d1=np.linalg.det(m1)\n",
    "d2=np.linalg.det(m2)\n",
    "print(d1)\n",
    "print(d2)"
   ]
  },
  {
   "cell_type": "code",
   "execution_count": null,
   "metadata": {},
   "outputs": [],
   "source": []
  }
 ],
 "metadata": {
  "kernelspec": {
   "display_name": "base",
   "language": "python",
   "name": "python3"
  },
  "language_info": {
   "codemirror_mode": {
    "name": "ipython",
    "version": 3
   },
   "file_extension": ".py",
   "mimetype": "text/x-python",
   "name": "python",
   "nbconvert_exporter": "python",
   "pygments_lexer": "ipython3",
   "version": "3.12.4"
  }
 },
 "nbformat": 4,
 "nbformat_minor": 2
}
